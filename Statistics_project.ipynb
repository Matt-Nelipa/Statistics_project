{
  "cells": [
    {
      "cell_type": "code",
      "execution_count": 34,
      "metadata": {
        "collapsed": true,
        "id": "-dxPubUDWLkm"
      },
      "outputs": [],
      "source": [
        "import pandas as pd # library for working with dataframes\n",
        "from scipy.stats import chi2, norm, t, triang # import normal, Student's t, and chi-squared distributions\n",
        "import matplotlib.pyplot as plt # data visualization\n",
        "from sympy import *\n",
        "from scipy.stats import chi2_contingency\n",
        "import seaborn as sns # data visualization\n",
        "import scipy.stats"
      ]
    },
    {
      "cell_type": "markdown",
      "metadata": {
        "collapsed": false,
        "id": "4C70iwLkWLkr"
      },
      "source": [
        "# Task 1\n",
        "## Import the data and select only those presented for the year 2012"
      ]
    },
    {
      "cell_type": "code",
      "execution_count": 35,
      "metadata": {
        "colab": {
          "base_uri": "https://localhost:8080/"
        },
        "id": "Z7ettHO0WLkr",
        "outputId": "32f614b9-5ef2-4963-9800-5740f9d9f259"
      },
      "outputs": [
        {
          "output_type": "stream",
          "name": "stdout",
          "text": [
            "                    Country  year  number  points  male  group  lang  age  \\\n",
            "75                  Albania  2012       3     146     0      0     1   26   \n",
            "76                Azerbajan  2012      13     150     0      0     0   33   \n",
            "77   Bosnia and Herzegovina  2012       5      55     0      0     0   31   \n",
            "78                   Cyprus  2012       8      65     0      0     0   19   \n",
            "79                  Denmark  2012      15      21     0      0     0   22   \n",
            "80                  Estonia  2012      11     120     1      0     0   25   \n",
            "81                   France  2012       9      21     0      0     1   38   \n",
            "82                  Germany  2012      20     110     1      0     0   22   \n",
            "83                   Greece  2012      16      64     0      0     0   23   \n",
            "84                  Hungary  2012       2      19     1      1     0   27   \n",
            "85                  Iceland  2012       7      46     1      1     0   26   \n",
            "86                  Ireland  2012      23      46     1      1     0   21   \n",
            "87                    Italy  2012      10     101     0      0     0   32   \n",
            "88                Lithuania  2012       4      70     1      0     0   25   \n",
            "89                    Malta  2012      21      41     1      0     0   23   \n",
            "90                  Moldova  2012      26      81     1      0     0   26   \n",
            "91          North Macedonia  2012      22      71     0      0     1   46   \n",
            "92                   Norway  2012      12       7     1      0     0   25   \n",
            "93                  Romania  2012      14      71     1      1     1   24   \n",
            "94                   Russia  2012       6     259     0      1     1   72   \n",
            "95                   Serbia  2012      24     214     1      0     1   40   \n",
            "96                    Spain  2012      19      97     0      0     1   34   \n",
            "97                   Sweden  2012      17     372     0      0     0   29   \n",
            "98                   Turkey  2012      18     112     1      0     0   25   \n",
            "99                  Ukraine  2012      25      65     0      0     0   33   \n",
            "100          United Kingdom  2012       1      12     1      0     0   76   \n",
            "\n",
            "     voting  win  nghb  dev  host  age25  semifinal  final_auto  \n",
            "75        0    0     0    0     0      0        146           0  \n",
            "76        0    1     1    0     1      0          0           1  \n",
            "77        0    0     0    0     0      0         77           0  \n",
            "78        0    0     0    1     0      1         91           0  \n",
            "79        0    1     0    1     0      1         63           0  \n",
            "80        0    1     0    1     0      1        100           0  \n",
            "81        0    1     0    1     0      0          0           1  \n",
            "82        0    1     0    1     0      1          0           1  \n",
            "83        0    0     0    1     0      1        116           0  \n",
            "84        0    0     0    0     0      0         52           0  \n",
            "85        0    0     0    1     0      0         75           0  \n",
            "86        0    1     0    1     0      1         92           0  \n",
            "87        0    1     0    1     0      0          0           1  \n",
            "88        0    0     0    1     0      1        104           0  \n",
            "89        0    0     0    1     0      1         70           0  \n",
            "90        0    0     0    0     0      0        100           0  \n",
            "91        0    0     0    0     0      0         53           0  \n",
            "92        0    1     0    1     0      1         45           0  \n",
            "93        0    0     0    0     0      1        120           0  \n",
            "94        0    1     1    0     0      0        152           0  \n",
            "95        0    1     0    0     0      0        159           0  \n",
            "96        0    1     0    1     0      0          0           1  \n",
            "97        0    1     0    1     0      0        181           0  \n",
            "98        0    1     1    0     0      1         80           0  \n",
            "99        0    1     0    0     0      0         64           0  \n",
            "100       0    1     0    1     0      0          0           1  \n"
          ]
        }
      ],
      "source": [
        "df = pd.read_excel('EurovisionDZ.xlsx')\n",
        "df_2012 = df.query('year == 2012')\n",
        "print(df_2012)"
      ]
    },
    {
      "cell_type": "markdown",
      "metadata": {
        "collapsed": false,
        "id": "bSuAzi7kWLku"
      },
      "source": [
        "# Task 2\n",
        "## Descriptive statistics for the age:\n",
        "\n",
        "### If outliers are removed, it visually resembles a normal distribution"
      ]
    },
    {
      "cell_type": "code",
      "execution_count": 36,
      "metadata": {
        "colab": {
          "base_uri": "https://localhost:8080/",
          "height": 521
        },
        "id": "I_IlCZyvWLkv",
        "outputId": "c5c103c7-b3d2-479f-f002-e1f9fc15aa2b"
      },
      "outputs": [
        {
          "output_type": "stream",
          "name": "stdout",
          "text": [
            "age: mean 31.6538 variance 195.6 standard deviation 13.9855 median 26.0 kurtosis 5.44 skewness 2.35 mode 25\n"
          ]
        },
        {
          "output_type": "stream",
          "name": "stderr",
          "text": [
            "<ipython-input-36-d8c18397fe30>:1: FutureWarning: Calling int on a single element Series is deprecated and will raise a TypeError in the future. Use int(ser.iloc[0]) instead\n",
            "  print('age:', 'mean', round(df_2012.age.mean(), 4), 'variance', round(df_2012.age.var(), 2), 'standard deviation', round(df_2012.age.std(), 4), 'median', df_2012.age.median(), 'kurtosis', round(df_2012.age.kurtosis(), 2), 'skewness', round(df_2012.age.skew(), 2), 'mode', int(df_2012.age.mode()))\n"
          ]
        },
        {
          "output_type": "execute_result",
          "data": {
            "text/plain": [
              "<Axes: >"
            ]
          },
          "metadata": {},
          "execution_count": 36
        },
        {
          "output_type": "display_data",
          "data": {
            "text/plain": [
              "<Figure size 640x480 with 1 Axes>"
            ],
            "image/png": "[encoded data removed]"
          },
          "metadata": {}
        }
      ],
      "source": [
        "print('age:', 'mean', round(df_2012.age.mean(), 4), 'variance', round(df_2012.age.var(), 2), 'standard deviation', round(df_2012.age.std(), 4), 'median', df_2012.age.median(), 'kurtosis', round(df_2012.age.kurtosis(), 2), 'skewness', round(df_2012.age.skew(), 2), 'mode', int(df_2012.age.mode()))\n",
        "df_2012.age.hist(bins = 50)"
      ]
    },
    {
      "cell_type": "markdown",
      "metadata": {
        "collapsed": false,
        "id": "u_bDPThZWLkw"
      },
      "source": [
        "### Empirical distribution function:"
      ]
    },
    {
      "cell_type": "code",
      "execution_count": 37,
      "metadata": {
        "id": "_VFnWFVKWLkx",
        "outputId": "e31ab3ca-0e1d-4d7a-98e4-e7d9e94283a6",
        "colab": {
          "base_uri": "https://localhost:8080/",
          "height": 467
        }
      },
      "outputs": [
        {
          "output_type": "execute_result",
          "data": {
            "text/plain": [
              "<Axes: xlabel='age', ylabel='Density'>"
            ]
          },
          "metadata": {},
          "execution_count": 37
        },
        {
          "output_type": "display_data",
          "data": {
            "text/plain": [
              "<Figure size 640x480 with 1 Axes>"
            ],
            "image/png": "[encoded data removed]"
          },
          "metadata": {}
        }
      ],
      "source": [
        "sns.kdeplot(df_2012.age, cumulative = True)"
      ]
    },
    {
      "cell_type": "markdown",
      "metadata": {
        "id": "No9PUwOOj3Wv"
      },
      "source": [
        "##### Discrete format of the EDF"
      ]
    },
    {
      "cell_type": "code",
      "execution_count": 38,
      "metadata": {
        "colab": {
          "base_uri": "https://localhost:8080/",
          "height": 525
        },
        "id": "X9npuAwHkGUw",
        "outputId": "7b4fb767-d47b-499f-babb-320dd0794025"
      },
      "outputs": [
        {
          "output_type": "execute_result",
          "data": {
            "text/plain": [
              "<seaborn.axisgrid.FacetGrid at 0x7ebc88252ef0>"
            ]
          },
          "metadata": {},
          "execution_count": 38
        },
        {
          "output_type": "display_data",
          "data": {
            "text/plain": [
              "<Figure size 500x500 with 1 Axes>"
            ],
            "image/png": "[encoded data removed]"
          },
          "metadata": {}
        }
      ],
      "source": [
        "sns.displot(x='age',\n",
        "            kind=\"ecdf\",\n",
        "            data=df_2012)"
      ]
    },
    {
      "cell_type": "markdown",
      "metadata": {
        "collapsed": false,
        "id": "rdGvwaxfWLky"
      },
      "source": [
        "# Descriptive statistics for the points:\n",
        "\n",
        "### It visually resembles the density of a normal distribution"
      ]
    },
    {
      "cell_type": "code",
      "execution_count": 39,
      "metadata": {
        "colab": {
          "base_uri": "https://localhost:8080/",
          "height": 486
        },
        "id": "8nGbh5t6WLkz",
        "outputId": "cbbfc794-abf7-455c-c2c7-e0ceb0831fcb"
      },
      "outputs": [
        {
          "output_type": "stream",
          "name": "stdout",
          "text": [
            "points: mean 93.69 variance 6798.38 standard deviation 82.45 median 70.5 kurtosis 4.51 skewness 1.95 modes [21, 46, 65, 71]\n"
          ]
        },
        {
          "output_type": "execute_result",
          "data": {
            "text/plain": [
              "<Axes: >"
            ]
          },
          "metadata": {},
          "execution_count": 39
        },
        {
          "output_type": "display_data",
          "data": {
            "text/plain": [
              "<Figure size 640x480 with 1 Axes>"
            ],
            "image/png": "[encoded data removed]"
          },
          "metadata": {}
        }
      ],
      "source": [
        "print('points:', 'mean', round(df_2012.points.mean(), 2), 'variance', round(df_2012.points.var(), 2), 'standard deviation', round(df_2012.points.std(), 2), 'median', df_2012.points.median(), 'kurtosis', round(df_2012.points.kurtosis(), 2), 'skewness', round(df_2012.points.skew(), 2), 'modes', list(df_2012.points.mode()))\n",
        "df_2012.points.hist(bins = 50)"
      ]
    },
    {
      "cell_type": "markdown",
      "metadata": {
        "collapsed": false,
        "id": "PuUeyinIWLk2"
      },
      "source": [
        "### Empirical distribution function:"
      ]
    },
    {
      "cell_type": "code",
      "execution_count": 40,
      "metadata": {
        "id": "sZYLBBEQWLk3",
        "outputId": "52b21141-1044-455c-c6bf-0cc908f3a8e4",
        "colab": {
          "base_uri": "https://localhost:8080/",
          "height": 467
        }
      },
      "outputs": [
        {
          "output_type": "execute_result",
          "data": {
            "text/plain": [
              "<Axes: xlabel='points', ylabel='Density'>"
            ]
          },
          "metadata": {},
          "execution_count": 40
        },
        {
          "output_type": "display_data",
          "data": {
            "text/plain": [
              "<Figure size 640x480 with 1 Axes>"
            ],
            "image/png": "[encoded data removed]"
          },
          "metadata": {}
        }
      ],
      "source": [
        "sns.kdeplot(df_2012.points, cumulative = True)"
      ]
    },
    {
      "cell_type": "markdown",
      "metadata": {
        "id": "18lU1NilkPc0"
      },
      "source": [
        "##### Discrete format of the EDF"
      ]
    },
    {
      "cell_type": "code",
      "execution_count": 41,
      "metadata": {
        "colab": {
          "base_uri": "https://localhost:8080/",
          "height": 525
        },
        "id": "cIZZIoqjkQcm",
        "outputId": "92366011-efc9-40e1-f085-38633b372e0b"
      },
      "outputs": [
        {
          "output_type": "execute_result",
          "data": {
            "text/plain": [
              "<seaborn.axisgrid.FacetGrid at 0x7ebc88035b10>"
            ]
          },
          "metadata": {},
          "execution_count": 41
        },
        {
          "output_type": "display_data",
          "data": {
            "text/plain": [
              "<Figure size 500x500 with 1 Axes>"
            ],
            "image/png": "[encoded data removed]"
          },
          "metadata": {}
        }
      ],
      "source": [
        "sns.displot(x='points',\n",
        "            kind=\"ecdf\",\n",
        "            data=df_2012)"
      ]
    },
    {
      "cell_type": "markdown",
      "metadata": {
        "collapsed": false,
        "id": "bwoXDRKAWLk4"
      },
      "source": [
        "# Descriptive statistics for the number:\n",
        "\n",
        "\n",
        "### Uniform discrete distribution"
      ]
    },
    {
      "cell_type": "code",
      "execution_count": 42,
      "metadata": {
        "colab": {
          "base_uri": "https://localhost:8080/",
          "height": 486
        },
        "id": "cQB0NVRGWLk6",
        "outputId": "3dc80d66-a520-462f-a2e0-73752bfebd42"
      },
      "outputs": [
        {
          "output_type": "stream",
          "name": "stdout",
          "text": [
            "number: mean 13.5 variance 58.5 standard deviation 7.65 median 13.5 kurtosis -1.2 skewness 0.0 modes [1, 2, 3, 4, 5, 6, 7, 8, 9, 10, 11, 12, 13, 14, 15, 16, 17, 18, 19, 20, 21, 22, 23, 24, 25, 26]\n"
          ]
        },
        {
          "output_type": "execute_result",
          "data": {
            "text/plain": [
              "<Axes: >"
            ]
          },
          "metadata": {},
          "execution_count": 42
        },
        {
          "output_type": "display_data",
          "data": {
            "text/plain": [
              "<Figure size 640x480 with 1 Axes>"
            ],
            "image/png": "[encoded data removed]"
          },
          "metadata": {}
        }
      ],
      "source": [
        "print('number:', 'mean', round(df_2012.number.mean(), 2), 'variance', round(df_2012.number.var(), 2), 'standard deviation', round(df_2012.number.std(), 2), 'median', df_2012.number.median(), 'kurtosis', round(df_2012.number.kurtosis(), 2), 'skewness', round(df_2012.number.skew(), 2), 'modes', list(df_2012.number.mode()))\n",
        "df_2012.number.hist(bins = 100)"
      ]
    },
    {
      "cell_type": "markdown",
      "metadata": {
        "collapsed": false,
        "id": "vQiMmQ_bWLk7"
      },
      "source": [
        "### Empirical distribution function:"
      ]
    },
    {
      "cell_type": "code",
      "execution_count": 43,
      "metadata": {
        "id": "nBUy3TYuWLk9",
        "outputId": "3519dedb-fb90-4b94-c7d9-45de712d023f",
        "colab": {
          "base_uri": "https://localhost:8080/",
          "height": 543
        }
      },
      "outputs": [
        {
          "output_type": "execute_result",
          "data": {
            "text/plain": [
              "<Figure size 640x480 with 0 Axes>"
            ]
          },
          "metadata": {},
          "execution_count": 43
        },
        {
          "output_type": "display_data",
          "data": {
            "text/plain": [
              "<Figure size 500x500 with 1 Axes>"
            ],
            "image/png": "[encoded data removed]"
          },
          "metadata": {}
        },
        {
          "output_type": "display_data",
          "data": {
            "text/plain": [
              "<Figure size 640x480 with 0 Axes>"
            ]
          },
          "metadata": {}
        }
      ],
      "source": [
        "sns.displot(df_2012['number'], kind=\"ecdf\")\n",
        "plt.figure()"
      ]
    },
    {
      "cell_type": "markdown",
      "metadata": {
        "collapsed": false,
        "id": "1PV72WMjWLk-"
      },
      "source": [
        "# Descriptive statistics for the group:\n",
        "\n",
        "### Bernoulli's distribution"
      ]
    },
    {
      "cell_type": "code",
      "execution_count": 44,
      "metadata": {
        "colab": {
          "base_uri": "https://localhost:8080/",
          "height": 521
        },
        "id": "N7lidelGWLk-",
        "outputId": "13bd26e3-ce00-4644-b1ca-26259b0a4afe"
      },
      "outputs": [
        {
          "output_type": "stream",
          "name": "stdout",
          "text": [
            "group: mean 0.19 variance 0.16 standard deviation 0.4 median 0.0 kurtosis 0.81 skewness 1.66 mode 0\n"
          ]
        },
        {
          "output_type": "stream",
          "name": "stderr",
          "text": [
            "<ipython-input-44-0a332b794aea>:1: FutureWarning: Calling int on a single element Series is deprecated and will raise a TypeError in the future. Use int(ser.iloc[0]) instead\n",
            "  print('group:', 'mean', round(df_2012.group.mean(), 2), 'variance', round(df_2012.group.var(), 2), 'standard deviation', round(df_2012.group.std(), 2), 'median', df_2012.group.median(), 'kurtosis', round(df_2012.group.kurtosis(), 2), 'skewness', round(df_2012.group.skew(), 2), 'mode', int(df_2012.group.mode()))\n"
          ]
        },
        {
          "output_type": "execute_result",
          "data": {
            "text/plain": [
              "<Axes: >"
            ]
          },
          "metadata": {},
          "execution_count": 44
        },
        {
          "output_type": "display_data",
          "data": {
            "text/plain": [
              "<Figure size 640x480 with 1 Axes>"
            ],
            "image/png": "[encoded data removed]"
          },
          "metadata": {}
        }
      ],
      "source": [
        "print('group:', 'mean', round(df_2012.group.mean(), 2), 'variance', round(df_2012.group.var(), 2), 'standard deviation', round(df_2012.group.std(), 2), 'median', df_2012.group.median(), 'kurtosis', round(df_2012.group.kurtosis(), 2), 'skewness', round(df_2012.group.skew(), 2), 'mode', int(df_2012.group.mode()))\n",
        "df_2012.group.hist(bins = 50)"
      ]
    },
    {
      "cell_type": "markdown",
      "metadata": {
        "collapsed": false,
        "id": "wWyJqqnGWLk-"
      },
      "source": [
        "### Empirical distribution function:"
      ]
    },
    {
      "cell_type": "code",
      "execution_count": 45,
      "metadata": {
        "id": "i9_-NYfCWLlA",
        "outputId": "6bba8e80-8109-4df5-801d-7eb78787fb3b",
        "colab": {
          "base_uri": "https://localhost:8080/",
          "height": 467
        }
      },
      "outputs": [
        {
          "output_type": "execute_result",
          "data": {
            "text/plain": [
              "<Axes: xlabel='group', ylabel='Density'>"
            ]
          },
          "metadata": {},
          "execution_count": 45
        },
        {
          "output_type": "display_data",
          "data": {
            "text/plain": [
              "<Figure size 640x480 with 1 Axes>"
            ],
            "image/png": "[encoded data removed]"
          },
          "metadata": {}
        }
      ],
      "source": [
        "sns.kdeplot(df_2012.group, cumulative = True)"
      ]
    },
    {
      "cell_type": "markdown",
      "metadata": {
        "id": "txq_hXfkkbsZ"
      },
      "source": [
        "##### Discrete format of the EDF"
      ]
    },
    {
      "cell_type": "code",
      "execution_count": 46,
      "metadata": {
        "colab": {
          "base_uri": "https://localhost:8080/",
          "height": 525
        },
        "id": "jNSVWAIzkcoc",
        "outputId": "4f2d56c6-58c3-47be-e2dc-09a5853aa214"
      },
      "outputs": [
        {
          "output_type": "execute_result",
          "data": {
            "text/plain": [
              "<seaborn.axisgrid.FacetGrid at 0x7ebc87c171c0>"
            ]
          },
          "metadata": {},
          "execution_count": 46
        },
        {
          "output_type": "display_data",
          "data": {
            "text/plain": [
              "<Figure size 500x500 with 1 Axes>"
            ],
            "image/png": "[encoded data removed]"
          },
          "metadata": {}
        }
      ],
      "source": [
        "sns.displot(x='group',\n",
        "            kind=\"ecdf\",\n",
        "            data=df_2012)"
      ]
    },
    {
      "cell_type": "markdown",
      "metadata": {
        "collapsed": false,
        "id": "FGUCv8gNWLlA"
      },
      "source": [
        "# Task 3\n",
        "## Build a correlation matrix between the variables from the Task 2"
      ]
    },
    {
      "cell_type": "code",
      "execution_count": 47,
      "metadata": {
        "id": "Kva4ljiFWLlA",
        "outputId": "b1160844-c8df-4ca4-d4ff-1d81a8e9a9ba",
        "colab": {
          "base_uri": "https://localhost:8080/"
        }
      },
      "outputs": [
        {
          "output_type": "stream",
          "name": "stdout",
          "text": [
            "             age    points    number     group\n",
            "age     1.000000  0.198804 -0.266807  0.083477\n",
            "points  0.198804  1.000000  0.137638 -0.033147\n",
            "number -0.266807  0.137638  1.000000 -0.201686\n",
            "group   0.083477 -0.033147 -0.201686  1.000000\n"
          ]
        }
      ],
      "source": [
        "correlation_matrix = df_2012[['age', 'points', 'number', 'group']].corr()\n",
        "print(correlation_matrix)"
      ]
    },
    {
      "cell_type": "markdown",
      "metadata": {
        "collapsed": false,
        "id": "hoxPAxmoWLlA"
      },
      "source": [
        "### The data do not fully match expectations: it is logical to assume an identity matrix since the dependence of these variables on each other is not obvious, but some degree of correlation is observed."
      ]
    },
    {
      "cell_type": "markdown",
      "metadata": {
        "collapsed": false,
        "id": "Knt_pV3pWLlA"
      },
      "source": [
        "# Task 4\n",
        "## Calculation of triangular distribution parameters\n",
        "### Triangular distribution is characterized by parameters a, b, c, where a is the minimum value, b is the maximum, and c is the mode"
      ]
    },
    {
      "cell_type": "code",
      "execution_count": 48,
      "metadata": {
        "colab": {
          "base_uri": "https://localhost:8080/"
        },
        "id": "Rnk53qbPWLlB",
        "outputId": "195ed73e-3541-45b4-af77-d0f0153d0381"
      },
      "outputs": [
        {
          "output_type": "stream",
          "name": "stdout",
          "text": [
            "a = 19, b = 76, c = 25\n"
          ]
        },
        {
          "output_type": "stream",
          "name": "stderr",
          "text": [
            "<ipython-input-48-f4b9ca40e6b3>:3: FutureWarning: Calling int on a single element Series is deprecated and will raise a TypeError in the future. Use int(ser.iloc[0]) instead\n",
            "  c = int(df_2012.age.mode())\n"
          ]
        }
      ],
      "source": [
        "a = min(df_2012.age)\n",
        "b = max(df_2012.age)\n",
        "c = int(df_2012.age.mode())\n",
        "print(f'a = {a}, b = {b}, c = {c}')"
      ]
    },
    {
      "cell_type": "markdown",
      "metadata": {
        "id": "tHIjCMyQENbI"
      },
      "source": [
        "For comparison - the library method .fit()"
      ]
    },
    {
      "cell_type": "code",
      "execution_count": 49,
      "metadata": {
        "colab": {
          "base_uri": "https://localhost:8080/"
        },
        "id": "YjwpPGuEEh0g",
        "outputId": "e721336f-52df-491e-bc18-6cb13e3c0dfb"
      },
      "outputs": [
        {
          "output_type": "stream",
          "name": "stdout",
          "text": [
            "a = 18.999862710393252, b = 78.7338863943713, c = 18.999917489329334\n"
          ]
        }
      ],
      "source": [
        "tr_c, loc, scale = triang.fit(df_2012['age'], method = 'MLE')\n",
        "a = loc\n",
        "b = loc + scale\n",
        "c = loc + tr_c*scale\n",
        "print(f'a = {a}, b = {b}, c = {c}')"
      ]
    },
    {
      "cell_type": "markdown",
      "metadata": {
        "collapsed": false,
        "id": "vKLgWkEwWLlB"
      },
      "source": [
        "# Task 5\n",
        "## Construction of confidence intervals for mean and variance"
      ]
    },
    {
      "cell_type": "markdown",
      "metadata": {
        "collapsed": false,
        "id": "pzmng6UuWLlC"
      },
      "source": [
        "### Calculate all the necessary variables for further calculations:"
      ]
    },
    {
      "cell_type": "code",
      "execution_count": 50,
      "metadata": {
        "id": "bDrPyTJgWLlC",
        "outputId": "4e2fa95c-5106-4ce5-f7d4-ecfb2cfab49c",
        "colab": {
          "base_uri": "https://localhost:8080/"
        }
      },
      "outputs": [
        {
          "output_type": "stream",
          "name": "stdout",
          "text": [
            "14.61140763948331 37.65248413348277\n"
          ]
        }
      ],
      "source": [
        "av = df_2012.age.mean() # sample mean\n",
        "s_sq = df_2012.age.var() # sample variance\n",
        "\n",
        "alpha = 0.05 # significance level\n",
        "k = df_2012.age.count() # the count of each value in the sample of the 'age' variable 'age'\n",
        "\n",
        "st_p = t.ppf(1 - alpha, df = k - 1) # positive Student's t critical value\n",
        "chisq_p1 = chi2.ppf(alpha, k - 1) # chi-squared percentage point at the 5% level\n",
        "chisq_p2 = chi2.ppf(1 - alpha, k - 1) # the 95% level\n",
        "print(chisq_p1, chisq_p2)"
      ]
    },
    {
      "cell_type": "markdown",
      "metadata": {
        "collapsed": false,
        "id": "UZ5w71O6WLlC"
      },
      "source": [
        "### Calculate CI bounds for the mean in the case of unknown variance: $x̄-\\frac {s}{\\sqrt{n}}t_{n-1; 1 - α} < a < x̄+\\frac {s}{\\sqrt{n}}t_{n-1; 1-α}$"
      ]
    },
    {
      "cell_type": "code",
      "execution_count": 51,
      "metadata": {
        "id": "qHQCaVXFWLlD",
        "outputId": "ab00f9b7-a621-4c56-cab6-3acffe2be25c",
        "colab": {
          "base_uri": "https://localhost:8080/"
        }
      },
      "outputs": [
        {
          "output_type": "stream",
          "name": "stdout",
          "text": [
            "90% confidence interval: (26.9687740004316, 36.3389183072607)\n"
          ]
        }
      ],
      "source": [
        "av_left = av - st_p*sqrt(s_sq/k)\n",
        "av_right = av + st_p*sqrt(s_sq/k)\n",
        "\n",
        "print(f'90% confidence interval: ({av_left}, {av_right})')"
      ]
    },
    {
      "cell_type": "markdown",
      "metadata": {
        "collapsed": false,
        "id": "6M9xJ-GEWLlD"
      },
      "source": [
        "### Calculate CI bounds for the variance in the case of unknown mean: $\\frac {(n-1)s^2}{\\chi^2_{α/2; n-1}} < \\sigma^2 < \\frac {(n-1)s^2}{\\chi^2_{1-α/2; n-1}}$"
      ]
    },
    {
      "cell_type": "code",
      "execution_count": 52,
      "metadata": {
        "id": "eLCVIWMTWLlD",
        "outputId": "49a1323d-171b-43e2-f2ec-8e24bbf61704",
        "colab": {
          "base_uri": "https://localhost:8080/"
        }
      },
      "outputs": [
        {
          "output_type": "stream",
          "name": "stdout",
          "text": [
            "90% confidence interval: (129.86884472348123, 334.6621171646082)\n"
          ]
        }
      ],
      "source": [
        "sd_right = (k - 1)*s_sq/chisq_p1\n",
        "sd_left = (k-1)*s_sq/chisq_p2\n",
        "\n",
        "print(f'90% confidence interval: ({sd_left}, {sd_right})')"
      ]
    },
    {
      "cell_type": "markdown",
      "metadata": {
        "collapsed": false,
        "id": "_vhoNq8yWLlF"
      },
      "source": [
        "# Task 6\n",
        "## Test the hypothesis that the mean age of the participants is equal to the sample median age value"
      ]
    },
    {
      "cell_type": "code",
      "execution_count": 53,
      "metadata": {
        "id": "RrAWzYY7WLlF",
        "outputId": "861d6491-4383-48ba-8009-96dbac1d3fae",
        "colab": {
          "base_uri": "https://localhost:8080/"
        }
      },
      "outputs": [
        {
          "output_type": "stream",
          "name": "stdout",
          "text": [
            "26.0\n",
            "31.653846153846153\n",
            "13.985541985042431\n"
          ]
        }
      ],
      "source": [
        "median = df_2012.age.median() # sample median\n",
        "print(median)\n",
        "mean = df_2012.age.mean() # sample mean\n",
        "print(mean)\n",
        "sd = df_2012.age.std() # standard deviation\n",
        "print(sd)"
      ]
    },
    {
      "cell_type": "markdown",
      "metadata": {
        "collapsed": false,
        "id": "_Qq9EdCCWLlF"
      },
      "source": [
        "### * $H_0$: The mean age of participants is equal to the sample median age value*\n",
        "### * $H_1$: The mean age of participants is not equal to the sample median age value*"
      ]
    },
    {
      "cell_type": "markdown",
      "metadata": {
        "collapsed": false,
        "id": "wDvu3aqpWLlG"
      },
      "source": [
        "### Use the T-test since we do not know the true variance, but we know the sample variance\n",
        "\n",
        "\n",
        "> Criterion statistics : $$ T =\\frac{(x̄ - a_0)}{s} \\sqrt{n}$$\n",
        "where n = 26\n",
        "\n",
        "\n"
      ]
    },
    {
      "cell_type": "code",
      "execution_count": 54,
      "metadata": {
        "id": "jvZB7iIMWLlG",
        "outputId": "8138a500-6189-4398-b727-6c5757e18184",
        "colab": {
          "base_uri": "https://localhost:8080/"
        }
      },
      "outputs": [
        {
          "output_type": "stream",
          "name": "stdout",
          "text": [
            "2.0613482048922953\n"
          ]
        }
      ],
      "source": [
        "t = ((mean-median)* 26 **(1/2))/sd\n",
        "print(t)"
      ]
    },
    {
      "cell_type": "markdown",
      "metadata": {
        "collapsed": false,
        "id": "DKjqsUYTWLlG"
      },
      "source": [
        "### Comparison with the critical value of two-sided Student's t-test\n",
        "\n",
        "> We need $t_{bound}$(0,05 ; 25) = 2,06"
      ]
    },
    {
      "cell_type": "code",
      "execution_count": 55,
      "metadata": {
        "id": "7ivXkywPWLlH",
        "outputId": "0b13882c-d110-4d4a-da58-7282657fca2a",
        "colab": {
          "base_uri": "https://localhost:8080/"
        }
      },
      "outputs": [
        {
          "output_type": "execute_result",
          "data": {
            "text/plain": [
              "2.059538552753294"
            ]
          },
          "metadata": {},
          "execution_count": 55
        }
      ],
      "source": [
        "scipy.stats.t.ppf(1-0.05/2, 25)"
      ]
    },
    {
      "cell_type": "markdown",
      "metadata": {
        "collapsed": false,
        "id": "Rc3CkAoLWLlH"
      },
      "source": [
        "### $|T|>t_{bound}$, therefore reject $Н_0$"
      ]
    },
    {
      "cell_type": "markdown",
      "metadata": {
        "collapsed": false,
        "id": "7pkHBv4PWLlH"
      },
      "source": [
        "# Task 7"
      ]
    },
    {
      "cell_type": "markdown",
      "metadata": {
        "id": "UMKWOCRUqC3V"
      },
      "source": [
        "#### Test the hypothesis that the average age of women exceeds the average age of men using normal approximation."
      ]
    },
    {
      "cell_type": "markdown",
      "metadata": {
        "collapsed": false,
        "id": "-r5loiYXWLlI"
      },
      "source": [
        "#### Since nothing is known about the parameters of the distribution from which the sample is taken, we will test the hypothesis of equality of mean with unknown equal variances\n",
        "##### The level of significance will be assumed to be ⍺ = 0.05"
      ]
    },
    {
      "cell_type": "markdown",
      "metadata": {
        "collapsed": false,
        "id": "wIkc8RXSWLlI"
      },
      "source": [
        "### Let us first test the hypothesis of equality of variances, since we cannot simply say that they are equal"
      ]
    },
    {
      "cell_type": "code",
      "execution_count": 56,
      "metadata": {
        "colab": {
          "base_uri": "https://localhost:8080/"
        },
        "id": "tFwD7LWVWLlI",
        "outputId": "378972f6-8ac6-434d-aa2b-3ea6ccdbfa8b"
      },
      "outputs": [
        {
          "output_type": "stream",
          "name": "stdout",
          "text": [
            "Sample variance for men 215.42307692307693, for women 183.06410256410254\n"
          ]
        }
      ],
      "source": [
        "var_male = df_2012.query('male == 1').age.var()\n",
        "var_female = df_2012.query('male == 0').age.var()\n",
        "print(f'Sample variance for men {var_male}, for women {var_female}')"
      ]
    },
    {
      "cell_type": "markdown",
      "metadata": {
        "collapsed": false,
        "id": "Gie-LORJWLlI"
      },
      "source": [
        "## $H_0$: variances of the general population are equal\n",
        "## $H_1$: variances of the general population are unequal"
      ]
    },
    {
      "cell_type": "markdown",
      "metadata": {
        "collapsed": false,
        "id": "--gzaLuFWLlJ"
      },
      "source": [
        "### Find the statistics F = $\\frac{var_{male}}{var_{female}}$\n",
        "\n",
        "#### Since we have the alternative hypothesis of inequality, we divide the larger variance by the smaller variance"
      ]
    },
    {
      "cell_type": "code",
      "execution_count": 57,
      "metadata": {
        "colab": {
          "base_uri": "https://localhost:8080/"
        },
        "id": "-RynFbShWLlJ",
        "outputId": "54333267-98e9-4f1e-e3c8-53dccb3f08a3"
      },
      "outputs": [
        {
          "output_type": "stream",
          "name": "stdout",
          "text": [
            "1.1767630786469643\n"
          ]
        }
      ],
      "source": [
        "F = var_male/var_female\n",
        "print(F)"
      ]
    },
    {
      "cell_type": "markdown",
      "metadata": {
        "collapsed": false,
        "id": "5nwCWIptWLlK"
      },
      "source": [
        "##### Let us denote by $n_{min}$ the sample size with smaller sample variance and by $n_{max}$ the sample size with larger variance. Using the table for the Fisher distribution, we find the critical point with significance level ⍺/2 and numbers of degrees of freedom $n_{max}$ - 1 and $n_{min}$ - 1. If F < $F_{cr}$, the main hypothesis is accepted, otherwise it is rejected"
      ]
    },
    {
      "cell_type": "code",
      "execution_count": 58,
      "metadata": {
        "colab": {
          "base_uri": "https://localhost:8080/"
        },
        "id": "TfaXNnvdWLlK",
        "outputId": "327619bd-05b1-47a8-d85f-15ab420f1ad9"
      },
      "outputs": [
        {
          "output_type": "stream",
          "name": "stdout",
          "text": [
            "13 13\n"
          ]
        }
      ],
      "source": [
        "n_min = df_2012.query('male == 0').age.count() # number of observations of the variable 'age' for women\n",
        "n_max = df_2012.query('male == 1').age.count() # number of observations of the variable 'age' for men\n",
        "print(n_min, n_max)"
      ]
    },
    {
      "cell_type": "markdown",
      "metadata": {
        "id": "LLvVsoo-qAY-"
      },
      "source": [
        "#### Since both samples have 13 observations each, we get 13 and 13\n",
        "\n",
        "#### Then we look for the critical point"
      ]
    },
    {
      "cell_type": "code",
      "execution_count": 59,
      "metadata": {
        "colab": {
          "base_uri": "https://localhost:8080/"
        },
        "id": "4qp4SHuWWLlK",
        "outputId": "b9055e47-d6b5-476e-9d12-a872c0611626"
      },
      "outputs": [
        {
          "output_type": "stream",
          "name": "stdout",
          "text": [
            "3.2772770940334945\n"
          ]
        }
      ],
      "source": [
        "alpha = 0.05 # significance level\n",
        "F_cr = scipy.stats.f.ppf(1 - alpha/2, n_max - 1, n_min - 1) # Fisher critical point\n",
        "print(F_cr)"
      ]
    },
    {
      "cell_type": "code",
      "execution_count": 60,
      "metadata": {
        "colab": {
          "base_uri": "https://localhost:8080/"
        },
        "id": "AL6DLEfNWLlK",
        "outputId": "1b2a648b-e23c-4c75-90d5-3eebba675059"
      },
      "outputs": [
        {
          "output_type": "execute_result",
          "data": {
            "text/plain": [
              "True"
            ]
          },
          "metadata": {},
          "execution_count": 60
        }
      ],
      "source": [
        "F < F_cr"
      ]
    },
    {
      "cell_type": "markdown",
      "metadata": {
        "collapsed": false,
        "id": "xuT8OttHWLlL"
      },
      "source": [
        "### As we can see, $F < F_{cr}$, which means that the hypothesis of equality of variances is not rejected"
      ]
    },
    {
      "cell_type": "markdown",
      "metadata": {
        "id": "NLELxqwgW0Yd"
      },
      "source": [
        "Now let's test hypothesis $H_0$ that the mean is equal from the assumption that the variances are unknown but equal.\n",
        "\n",
        "Alternative hypothesis $H_1$: the mean of women is greater than that of men"
      ]
    },
    {
      "cell_type": "markdown",
      "metadata": {
        "id": "SNFt4pOKqIBr"
      },
      "source": [
        "## We will use the following formula for the criterion statistics:\n",
        "$T = \\frac{x̄ - ȳ}{s \\sqrt{\\frac{1}{n}+\\frac{1}{m}}}$,\n",
        "\n",
        "where $s^2$ - joint variance estimate (common for two samples)\n",
        "$s^2 = \\frac {(n-1)s_{male}^2+(m-1)s_{female}^2}{n+m-2}$"
      ]
    },
    {
      "cell_type": "code",
      "execution_count": 61,
      "metadata": {
        "colab": {
          "base_uri": "https://localhost:8080/"
        },
        "id": "7igBQtkkWLlL",
        "outputId": "4de6c00a-aa15-4c66-e538-e57bcdc8a2b0"
      },
      "outputs": [
        {
          "output_type": "stream",
          "name": "stdout",
          "text": [
            "Value of the criterion statistic T - 0.720324924695028\n"
          ]
        }
      ],
      "source": [
        "s_sq  = ((n_min-1)*var_female + (n_max)*var_male)/(n_min + n_max - 2) # calculate the pooled variance estimate\n",
        "\n",
        "# calculate averages\n",
        "mean_male = df_2012.query('male == 1').age.mean()\n",
        "mean_female = df_2012.query('male == 0').age.mean()\n",
        "\n",
        "# calculate the criterion statistic\n",
        "T = (mean_female - mean_male)/sqrt(s_sq*(1/n_min + 1/n_max))\n",
        "\n",
        "print(f\"Value of the criterion statistic T - {T}\")"
      ]
    },
    {
      "cell_type": "markdown",
      "metadata": {
        "id": "40ERcXD5ZAhc"
      },
      "source": [
        "We compare it with the corresponding Student's critical point. We take the point with n+m-2\n",
        "degrees of freedom and significance level ⍺ for one-sided critical region."
      ]
    },
    {
      "cell_type": "code",
      "execution_count": 62,
      "metadata": {
        "colab": {
          "base_uri": "https://localhost:8080/"
        },
        "id": "IPTrV1luWLlM",
        "outputId": "9f0cbc88-32ab-4cbf-cc38-48efc873e1c0"
      },
      "outputs": [
        {
          "output_type": "stream",
          "name": "stdout",
          "text": [
            "1.7108820799094275\n"
          ]
        }
      ],
      "source": [
        "alph_t = 0.05\n",
        "t_point = scipy.stats.t.ppf(1 - alph_t, n_min + n_max - 2)\n",
        "\n",
        "print(t_point)"
      ]
    },
    {
      "cell_type": "markdown",
      "metadata": {
        "id": "5IYu_IncZ9wS"
      },
      "source": [
        "Criterion: if $T < t_{cr}$, we accept $H_0$, otherwise we reject it"
      ]
    },
    {
      "cell_type": "code",
      "execution_count": 63,
      "metadata": {
        "colab": {
          "base_uri": "https://localhost:8080/"
        },
        "id": "x_TOQoUnWLlM",
        "outputId": "64f71ecc-9303-406b-ba2c-74c49f2e7365"
      },
      "outputs": [
        {
          "output_type": "stream",
          "name": "stdout",
          "text": [
            "We accept the hypothesis of equality of the averages\n"
          ]
        }
      ],
      "source": [
        "if T < t_point:\n",
        "  print(\"We accept the hypothesis of equality of the averages\")\n",
        "else:\n",
        "  print(\"Accept the hypothesis that the mean of women is greater than the mean of men\")"
      ]
    },
    {
      "cell_type": "markdown",
      "metadata": {
        "id": "2Duk8jRDqw7q"
      },
      "source": [
        "### Thus, we reject the hypothesis that the average age of female contestants is greater than the average age of male contestants."
      ]
    },
    {
      "cell_type": "markdown",
      "metadata": {
        "collapsed": false,
        "id": "rAEtt-lPWLlM"
      },
      "source": [
        "# Task 8\n",
        "## Test the hypothesis that the variable 'age' is normally distributed"
      ]
    },
    {
      "cell_type": "markdown",
      "metadata": {
        "collapsed": false,
        "id": "38LFLZKgWLlM"
      },
      "source": [
        "### But first, it is suggested to take a look at the histogram of the 'age' variable"
      ]
    },
    {
      "cell_type": "code",
      "execution_count": 64,
      "metadata": {
        "id": "IGBXOQftWLlN",
        "outputId": "23227787-841e-44b8-e08e-688610dc3705",
        "colab": {
          "base_uri": "https://localhost:8080/",
          "height": 472
        }
      },
      "outputs": [
        {
          "output_type": "display_data",
          "data": {
            "text/plain": [
              "<Figure size 640x480 with 1 Axes>"
            ],
            "image/png": "[encoded data removed]"
          },
          "metadata": {}
        }
      ],
      "source": [
        "df_2012.age.hist(bins = 50) # histogram based on the 'age' variable\n",
        "# add the histogram description to the chart\n",
        "plt.xlabel('\"age\" observations')\n",
        "plt.ylabel('frequency')\n",
        "plt.title('\"age\" histogram')\n",
        "plt.show()"
      ]
    },
    {
      "cell_type": "markdown",
      "metadata": {
        "collapsed": false,
        "id": "2RGfXDe4WLlN"
      },
      "source": [
        "### For this purpose, we will use Pearson's criterion of agreement and consider the obtained sample mean and sample variance from the sample as parameters of the assumed normal distribution"
      ]
    },
    {
      "cell_type": "code",
      "execution_count": 65,
      "metadata": {
        "id": "gZwawtRHWLlN",
        "outputId": "7b9f1ca2-750c-4900-b5e1-929cb9be1d57",
        "colab": {
          "base_uri": "https://localhost:8080/"
        }
      },
      "outputs": [
        {
          "output_type": "stream",
          "name": "stdout",
          "text": [
            "31.653846153846153 195.5953846153846\n"
          ]
        }
      ],
      "source": [
        "mean = df_2012.age.mean() # sample mean\n",
        "variance = df_2012.age.var() # sample variance\n",
        "std = df_2012.age.std()\n",
        "print(mean, variance)"
      ]
    },
    {
      "cell_type": "markdown",
      "metadata": {
        "collapsed": false,
        "id": "KmILXWl2WLlN"
      },
      "source": [
        "### * $H_0$: variable 'age' is normally distributed with parameters mean, variance\n",
        "### * $H_1$: the variable 'age' is not normally distributed with parameters mean, variance"
      ]
    },
    {
      "cell_type": "markdown",
      "metadata": {
        "collapsed": false,
        "id": "i9L3AK1WWLlO"
      },
      "source": [
        "### Split the sample into 5 batches\n",
        "---\n",
        "* Sort the values of the 'age' variable\n",
        "### Divide by the given condition"
      ]
    },
    {
      "cell_type": "code",
      "execution_count": 66,
      "metadata": {
        "id": "fTuE8Eu_WLlO",
        "outputId": "6eb9fa2d-b331-459e-86f4-38bb450303bd",
        "colab": {
          "base_uri": "https://localhost:8080/",
          "height": 899
        }
      },
      "outputs": [
        {
          "output_type": "execute_result",
          "data": {
            "text/plain": [
              "78     19\n",
              "86     21\n",
              "79     22\n",
              "82     22\n",
              "83     23\n",
              "89     23\n",
              "93     24\n",
              "88     25\n",
              "92     25\n",
              "80     25\n",
              "98     25\n",
              "85     26\n",
              "90     26\n",
              "75     26\n",
              "84     27\n",
              "97     29\n",
              "77     31\n",
              "87     32\n",
              "99     33\n",
              "76     33\n",
              "96     34\n",
              "81     38\n",
              "95     40\n",
              "91     46\n",
              "94     72\n",
              "100    76\n",
              "Name: age, dtype: int64"
            ],
            "text/html": [
              "<div>\n",
              "<style scoped>\n",
              "    .dataframe tbody tr th:only-of-type {\n",
              "        vertical-align: middle;\n",
              "    }\n",
              "\n",
              "    .dataframe tbody tr th {\n",
              "        vertical-align: top;\n",
              "    }\n",
              "\n",
              "    .dataframe thead th {\n",
              "        text-align: right;\n",
              "    }\n",
              "</style>\n",
              "<table border=\"1\" class=\"dataframe\">\n",
              "  <thead>\n",
              "    <tr style=\"text-align: right;\">\n",
              "      <th></th>\n",
              "      <th>age</th>\n",
              "    </tr>\n",
              "  </thead>\n",
              "  <tbody>\n",
              "    <tr>\n",
              "      <th>78</th>\n",
              "      <td>19</td>\n",
              "    </tr>\n",
              "    <tr>\n",
              "      <th>86</th>\n",
              "      <td>21</td>\n",
              "    </tr>\n",
              "    <tr>\n",
              "      <th>79</th>\n",
              "      <td>22</td>\n",
              "    </tr>\n",
              "    <tr>\n",
              "      <th>82</th>\n",
              "      <td>22</td>\n",
              "    </tr>\n",
              "    <tr>\n",
              "      <th>83</th>\n",
              "      <td>23</td>\n",
              "    </tr>\n",
              "    <tr>\n",
              "      <th>89</th>\n",
              "      <td>23</td>\n",
              "    </tr>\n",
              "    <tr>\n",
              "      <th>93</th>\n",
              "      <td>24</td>\n",
              "    </tr>\n",
              "    <tr>\n",
              "      <th>88</th>\n",
              "      <td>25</td>\n",
              "    </tr>\n",
              "    <tr>\n",
              "      <th>92</th>\n",
              "      <td>25</td>\n",
              "    </tr>\n",
              "    <tr>\n",
              "      <th>80</th>\n",
              "      <td>25</td>\n",
              "    </tr>\n",
              "    <tr>\n",
              "      <th>98</th>\n",
              "      <td>25</td>\n",
              "    </tr>\n",
              "    <tr>\n",
              "      <th>85</th>\n",
              "      <td>26</td>\n",
              "    </tr>\n",
              "    <tr>\n",
              "      <th>90</th>\n",
              "      <td>26</td>\n",
              "    </tr>\n",
              "    <tr>\n",
              "      <th>75</th>\n",
              "      <td>26</td>\n",
              "    </tr>\n",
              "    <tr>\n",
              "      <th>84</th>\n",
              "      <td>27</td>\n",
              "    </tr>\n",
              "    <tr>\n",
              "      <th>97</th>\n",
              "      <td>29</td>\n",
              "    </tr>\n",
              "    <tr>\n",
              "      <th>77</th>\n",
              "      <td>31</td>\n",
              "    </tr>\n",
              "    <tr>\n",
              "      <th>87</th>\n",
              "      <td>32</td>\n",
              "    </tr>\n",
              "    <tr>\n",
              "      <th>99</th>\n",
              "      <td>33</td>\n",
              "    </tr>\n",
              "    <tr>\n",
              "      <th>76</th>\n",
              "      <td>33</td>\n",
              "    </tr>\n",
              "    <tr>\n",
              "      <th>96</th>\n",
              "      <td>34</td>\n",
              "    </tr>\n",
              "    <tr>\n",
              "      <th>81</th>\n",
              "      <td>38</td>\n",
              "    </tr>\n",
              "    <tr>\n",
              "      <th>95</th>\n",
              "      <td>40</td>\n",
              "    </tr>\n",
              "    <tr>\n",
              "      <th>91</th>\n",
              "      <td>46</td>\n",
              "    </tr>\n",
              "    <tr>\n",
              "      <th>94</th>\n",
              "      <td>72</td>\n",
              "    </tr>\n",
              "    <tr>\n",
              "      <th>100</th>\n",
              "      <td>76</td>\n",
              "    </tr>\n",
              "  </tbody>\n",
              "</table>\n",
              "</div><br><label><b>dtype:</b> int64</label>"
            ]
          },
          "metadata": {},
          "execution_count": 66
        }
      ],
      "source": [
        "df_2012.age.sort_values() # sorted values of the 'age' variable"
      ]
    },
    {
      "cell_type": "code",
      "execution_count": 67,
      "metadata": {
        "id": "B_HcRfSCWLlO"
      },
      "outputs": [],
      "source": [
        "r = 5 # number of parts\n",
        "alpha = 0.05 # significance level\n",
        "X = (6, 5, 5, 5, 5)\n",
        "n = 26"
      ]
    },
    {
      "cell_type": "markdown",
      "metadata": {
        "collapsed": false,
        "id": "zrqppugzWLlP"
      },
      "source": [
        "### Thus, our batches are as follows: (-∞; 23], (23; 25], (25; 29], (29; 34], (34; +∞)\n",
        "- Vector of the number of observations at each site: X = (6, 5, 5, 5, 5), there are 26 observations in total\n",
        "- Estimated significance level ⍺ = 0.05\n",
        "- Number of intervals r = 5\n",
        "Let's find the value of $χ_⍺^2$(r-1)"
      ]
    },
    {
      "cell_type": "code",
      "execution_count": 68,
      "metadata": {
        "id": "eWGBlWjwWLlP",
        "outputId": "66d94efe-740f-48f7-b4e2-9dd86ae89819",
        "colab": {
          "base_uri": "https://localhost:8080/"
        }
      },
      "outputs": [
        {
          "output_type": "stream",
          "name": "stdout",
          "text": [
            "9.487729036781154\n"
          ]
        }
      ],
      "source": [
        "chi2_value = chi2.ppf(1 - alpha, r - 1)\n",
        "print(chi2_value)"
      ]
    },
    {
      "cell_type": "markdown",
      "metadata": {
        "collapsed": false,
        "id": "RVNzxuxJWLlP"
      },
      "source": [
        "### The following actions will be performed under the assumption that the null hypothesis is true\n",
        "- calculate the vector of probabilities for falling into the i-th interval"
      ]
    },
    {
      "cell_type": "code",
      "execution_count": 69,
      "metadata": {
        "id": "88blE3aTWLlQ",
        "outputId": "e1cd2b17-e46d-45a8-8382-5c86d5b1674b",
        "colab": {
          "base_uri": "https://localhost:8080/"
        }
      },
      "outputs": [
        {
          "output_type": "stream",
          "name": "stdout",
          "text": [
            "(0.2680336533970117, 0.049086874011625814, 0.1076294824660669, 0.14186223756229438, 0.4333877525630012)\n"
          ]
        }
      ],
      "source": [
        "# 1 batch\n",
        "p1 = norm(mean, std).cdf(23)\n",
        "# 2 batch\n",
        "p2 = norm(mean, std).cdf(25) - norm(mean, std).cdf(23)\n",
        "# 3 batch\n",
        "p3 = norm(mean, std).cdf(29) - norm(mean, std).cdf(25)\n",
        "# 4 batch\n",
        "p4 = norm(mean, std).cdf(34) - norm(mean, std).cdf(29)\n",
        "# 5 batch\n",
        "p5 = 1 - norm(mean, std).cdf(34)\n",
        "p_vec = (p1, p2, p3, p4, p5)\n",
        "print(p_vec) # desired probability vector"
      ]
    },
    {
      "cell_type": "markdown",
      "metadata": {
        "id": "atuXPDX2GDwM"
      },
      "source": [
        "##### For convenience of the following calculations, according to the location index of the vector coordinate in the Python data structure 'tuple', we will collect the coordinates of vectors X and p_vec into the Python data structure 'list'"
      ]
    },
    {
      "cell_type": "code",
      "execution_count": 70,
      "metadata": {
        "id": "6Gt-56NyWLlQ",
        "outputId": "63fa30dd-2410-46f4-e470-7c567eeddfc7",
        "colab": {
          "base_uri": "https://localhost:8080/"
        }
      },
      "outputs": [
        {
          "output_type": "stream",
          "name": "stdout",
          "text": [
            "[(6, 0.2680336533970117), (5, 0.049086874011625814), (5, 0.1076294824660669), (5, 0.14186223756229438), (5, 0.4333877525630012)]\n"
          ]
        }
      ],
      "source": [
        "match_vector = list(zip(X, p_vec))\n",
        "print(match_vector)"
      ]
    },
    {
      "cell_type": "markdown",
      "metadata": {
        "collapsed": false,
        "id": "orkAoTV9WLlQ"
      },
      "source": [
        "### We will calculate the following statistic:\n",
        "$$ Q =∑_{j=1}^r\\frac{(X_j−np_j)^2} {np_j} $$"
      ]
    },
    {
      "cell_type": "code",
      "execution_count": 71,
      "metadata": {
        "id": "KwKJZu8KWLlR",
        "outputId": "1354e743-b843-41d1-9442-7a5265ee30b6",
        "colab": {
          "base_uri": "https://localhost:8080/"
        }
      },
      "outputs": [
        {
          "output_type": "stream",
          "name": "stdout",
          "text": [
            "16.684744116182383\n"
          ]
        }
      ],
      "source": [
        "Q = 0\n",
        "for i in match_vector:\n",
        "    Q += ((i[0] - n * i[1]) ** 2)/ (n * i[1])\n",
        "print(Q)"
      ]
    },
    {
      "cell_type": "markdown",
      "metadata": {
        "collapsed": false,
        "id": "Zg8SodGJWLlR"
      },
      "source": [
        "## Reject the hypothesis $H_0$, if Q > $χ_⍺^2$(r-1)"
      ]
    },
    {
      "cell_type": "code",
      "execution_count": 72,
      "metadata": {
        "id": "tLA3jFLnWLlR",
        "outputId": "2c16b0ef-f498-4aab-b451-d4f484d6d7a3",
        "colab": {
          "base_uri": "https://localhost:8080/"
        }
      },
      "outputs": [
        {
          "output_type": "execute_result",
          "data": {
            "text/plain": [
              "True"
            ]
          },
          "metadata": {},
          "execution_count": 72
        }
      ],
      "source": [
        "Q > chi2_value # comparison operation that outputs 'True' if the inequality is true and 'False' if it is false."
      ]
    },
    {
      "cell_type": "markdown",
      "metadata": {
        "collapsed": false,
        "id": "mgqpMFknWLlS"
      },
      "source": [
        "### The Q statistic was greater than the $χ_⍺^2$(r-1) value, which means we reject the null hypothesis that the variable 'age' is normally distributed at a significance level of 0.05"
      ]
    },
    {
      "cell_type": "markdown",
      "metadata": {
        "collapsed": false,
        "id": "mlvxETAnWLlS"
      },
      "source": [
        "# Now let's run the same test, only without the outliers in the form of values 72, 76 'age' variable"
      ]
    },
    {
      "cell_type": "code",
      "execution_count": 73,
      "metadata": {
        "id": "7JNkGnPrWLlS",
        "outputId": "9afddaf5-39d9-4e6a-fcda-837293b036c8",
        "colab": {
          "base_uri": "https://localhost:8080/"
        }
      },
      "outputs": [
        {
          "output_type": "stream",
          "name": "stdout",
          "text": [
            "28.125 43.33152173913044\n",
            "9.487729036781154\n",
            "(0.21811957411139266, 0.09936960667828915, 0.2353844006228385, 0.21765269597960502, 0.1860637759713819)\n",
            "[(6, 0.21811957411139266), (5, 0.09936960667828915), (5, 0.2353844006228385), (4, 0.21765269597960502), (4, 0.1860637759713819)]\n",
            "3.389242272117816\n"
          ]
        },
        {
          "output_type": "execute_result",
          "data": {
            "text/plain": [
              "False"
            ]
          },
          "metadata": {},
          "execution_count": 73
        }
      ],
      "source": [
        "df_2012test = df_2012.query('age != 72 and age != 76')\n",
        "mean = df_2012test.age.mean() # sample mean\n",
        "variance = df_2012test.age.var() # sample variance\n",
        "std = df_2012test.age.std()\n",
        "print(mean, variance)\n",
        "df_2012test.age.sort_values()\n",
        "r = 5 # number of parts\n",
        "alpha = 0.05 # significance level\n",
        "X = (6, 5, 5, 4, 4)\n",
        "n = 24\n",
        "chi2_value = chi2.ppf(1 - alpha, r - 1)\n",
        "print(chi2_value)\n",
        "# 1 batch\n",
        "p1 = norm(mean, std).cdf(23)\n",
        "# 2 batch\n",
        "p2 = norm(mean, std).cdf(25) - norm(mean, std).cdf(23)\n",
        "# 3 batch\n",
        "p3 = norm(mean, std).cdf(29) - norm(mean, std).cdf(25)\n",
        "# 4 batch\n",
        "p4 = norm(mean, std).cdf(33) - norm(mean, std).cdf(29)\n",
        "# 5 batch\n",
        "p5 = 1 - norm(mean, std).cdf(34)\n",
        "p_vec = (p1, p2, p3, p4, p5)\n",
        "print(p_vec) # desired probability vector\n",
        "match_vector = list(zip(X, p_vec))\n",
        "print(match_vector)\n",
        "Q = 0\n",
        "for i in match_vector:\n",
        "    Q += ((i[0] - n * i[1]) ** 2)/ (n * i[1])\n",
        "print(Q)\n",
        "Q > chi2_value"
      ]
    },
    {
      "cell_type": "markdown",
      "metadata": {
        "collapsed": false,
        "id": "sHZCJy7nWLlS"
      },
      "source": [
        "### As we can see, the value of Q was less than $χ_⍺^2$(r-1), which means that in this case at the significance level of 0.05 the null hypothesis is not rejected"
      ]
    },
    {
      "cell_type": "markdown",
      "metadata": {
        "collapsed": false,
        "id": "9sMSrZ5oWLlT"
      },
      "source": [
        "# Task 9"
      ]
    },
    {
      "cell_type": "markdown",
      "metadata": {
        "collapsed": false,
        "id": "EvwW-hJRWLlT"
      },
      "source": [
        "## Check the hypothesis that the number of points scored and the team number are independent variables\n",
        "### Create a contingency table based on our data"
      ]
    },
    {
      "cell_type": "code",
      "execution_count": 74,
      "metadata": {
        "id": "8RitrvSdWLlT",
        "outputId": "6f6ab705-e8cc-4b91-ac72-dee593f11d82",
        "colab": {
          "base_uri": "https://localhost:8080/"
        }
      },
      "outputs": [
        {
          "output_type": "stream",
          "name": "stdout",
          "text": [
            "number  1  2  3  4  5  6  7  8  9  10  ...  18  19  20  21  22  23  24  25  \\\n",
            "points                                 ...                                   \n",
            "7       0  0  0  0  0  0  0  0  0   0  ...   0   0   0   0   0   0   0   0   \n",
            "12      1  0  0  0  0  0  0  0  0   0  ...   0   0   0   0   0   0   0   0   \n",
            "19      0  1  0  0  0  0  0  0  0   0  ...   0   0   0   0   0   0   0   0   \n",
            "21      0  0  0  0  0  0  0  0  1   0  ...   0   0   0   0   0   0   0   0   \n",
            "41      0  0  0  0  0  0  0  0  0   0  ...   0   0   0   1   0   0   0   0   \n",
            "46      0  0  0  0  0  0  1  0  0   0  ...   0   0   0   0   0   1   0   0   \n",
            "55      0  0  0  0  1  0  0  0  0   0  ...   0   0   0   0   0   0   0   0   \n",
            "64      0  0  0  0  0  0  0  0  0   0  ...   0   0   0   0   0   0   0   0   \n",
            "65      0  0  0  0  0  0  0  1  0   0  ...   0   0   0   0   0   0   0   1   \n",
            "70      0  0  0  1  0  0  0  0  0   0  ...   0   0   0   0   0   0   0   0   \n",
            "71      0  0  0  0  0  0  0  0  0   0  ...   0   0   0   0   1   0   0   0   \n",
            "81      0  0  0  0  0  0  0  0  0   0  ...   0   0   0   0   0   0   0   0   \n",
            "97      0  0  0  0  0  0  0  0  0   0  ...   0   1   0   0   0   0   0   0   \n",
            "101     0  0  0  0  0  0  0  0  0   1  ...   0   0   0   0   0   0   0   0   \n",
            "110     0  0  0  0  0  0  0  0  0   0  ...   0   0   1   0   0   0   0   0   \n",
            "112     0  0  0  0  0  0  0  0  0   0  ...   1   0   0   0   0   0   0   0   \n",
            "120     0  0  0  0  0  0  0  0  0   0  ...   0   0   0   0   0   0   0   0   \n",
            "146     0  0  1  0  0  0  0  0  0   0  ...   0   0   0   0   0   0   0   0   \n",
            "150     0  0  0  0  0  0  0  0  0   0  ...   0   0   0   0   0   0   0   0   \n",
            "214     0  0  0  0  0  0  0  0  0   0  ...   0   0   0   0   0   0   1   0   \n",
            "259     0  0  0  0  0  1  0  0  0   0  ...   0   0   0   0   0   0   0   0   \n",
            "372     0  0  0  0  0  0  0  0  0   0  ...   0   0   0   0   0   0   0   0   \n",
            "Total   1  1  1  1  1  1  1  1  1   1  ...   1   1   1   1   1   1   1   1   \n",
            "\n",
            "number  26  Total  \n",
            "points             \n",
            "7        0      1  \n",
            "12       0      1  \n",
            "19       0      1  \n",
            "21       0      2  \n",
            "41       0      1  \n",
            "46       0      2  \n",
            "55       0      1  \n",
            "64       0      1  \n",
            "65       0      2  \n",
            "70       0      1  \n",
            "71       0      2  \n",
            "81       1      1  \n",
            "97       0      1  \n",
            "101      0      1  \n",
            "110      0      1  \n",
            "112      0      1  \n",
            "120      0      1  \n",
            "146      0      1  \n",
            "150      0      1  \n",
            "214      0      1  \n",
            "259      0      1  \n",
            "372      0      1  \n",
            "Total    1     26  \n",
            "\n",
            "[23 rows x 27 columns]\n"
          ]
        }
      ],
      "source": [
        "data = df_2012[['points', 'number']]\n",
        "\n",
        "cont_tb = pd.crosstab(data['points'], data['number'], margins = True, margins_name =\"Total\")\n",
        "print(cont_tb)"
      ]
    },
    {
      "cell_type": "markdown",
      "metadata": {
        "id": "WBWrbfcrd-0S"
      },
      "source": [
        "##### Compute the statistic $ K = \\sum_{i = 1}^l\\sum_{j = 1}^s {{n_{ij} - {{n_{i*}n_{*j}}\\over{n}}}\\over{n_{i*}n_{*j}/n}} $ using the table:"
      ]
    },
    {
      "cell_type": "code",
      "execution_count": 75,
      "metadata": {
        "id": "vG4ftVK7WLlU",
        "outputId": "fe92d99a-fcc4-4ec2-9c23-44fe7a5c6d78",
        "colab": {
          "base_uri": "https://localhost:8080/"
        }
      },
      "outputs": [
        {
          "output_type": "stream",
          "name": "stdout",
          "text": [
            "546.0000000000026\n"
          ]
        }
      ],
      "source": [
        "nmp = cont_tb.to_numpy()\n",
        "K = 0\n",
        "\n",
        "for i in range(len(nmp)):\n",
        "    for j in range(len(nmp[0])):\n",
        "        O = nmp[i][j]\n",
        "        E = nmp[i][len(nmp[0])-1]*nmp[len(nmp)-1][j]/nmp[len(nmp)-1][len(nmp[0])-1]\n",
        "        K += (O - E)**2/E\n",
        "\n",
        "print(K)"
      ]
    },
    {
      "cell_type": "code",
      "execution_count": 76,
      "metadata": {
        "id": "ZzLlOqd1WLlU",
        "outputId": "778dff9d-ed17-442d-d778-9f410a094f8e",
        "colab": {
          "base_uri": "https://localhost:8080/"
        }
      },
      "outputs": [
        {
          "output_type": "stream",
          "name": "stdout",
          "text": [
            "546.0\n"
          ]
        }
      ],
      "source": [
        "#for comparison, the library function\n",
        "K2, p_value, dof, A = chi2_contingency(pd.crosstab(data['points'], data['number']))\n",
        "\n",
        "print(K2)"
      ]
    },
    {
      "cell_type": "markdown",
      "metadata": {
        "collapsed": false,
        "id": "XVreEEwGWLlU"
      },
      "source": [
        "### Reject the hypothesis $H_0$, if $K > χ_⍺^2((k-1)*(l-1))$"
      ]
    },
    {
      "cell_type": "code",
      "execution_count": 77,
      "metadata": {
        "id": "A2wPDqrTWLlU",
        "outputId": "9824c356-c39e-4cd2-a1b9-3203ecdebb9c",
        "colab": {
          "base_uri": "https://localhost:8080/"
        }
      },
      "outputs": [
        {
          "output_type": "stream",
          "name": "stdout",
          "text": [
            "579.4119287636901\n",
            "Accept\n"
          ]
        }
      ],
      "source": [
        "alpha = 0.05\n",
        "degrees_of_freedom = (len(nmp[0])-2)*(len(nmp)-2)\n",
        "chi2_p = chi2.ppf(1 - alpha, degrees_of_freedom)\n",
        "\n",
        "print(chi2_p)\n",
        "\n",
        "if K > chi2_p:\n",
        "    print(\"Reject\")\n",
        "else:\n",
        "    print(\"Accept\")"
      ]
    }
  ],
  "metadata": {
    "colab": {
      "provenance": []
    },
    "kernelspec": {
      "display_name": "Python 3",
      "language": "python",
      "name": "python3"
    },
    "language_info": {
      "codemirror_mode": {
        "name": "ipython",
        "version": 3
      },
      "file_extension": ".py",
      "mimetype": "text/x-python",
      "name": "python",
      "nbconvert_exporter": "python",
      "pygments_lexer": "ipython3",
      "version": "3.12.5"
    }
  },
  "nbformat": 4,
  "nbformat_minor": 0
}